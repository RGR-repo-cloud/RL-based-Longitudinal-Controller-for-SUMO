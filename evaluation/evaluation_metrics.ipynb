{
 "cells": [
  {
   "cell_type": "code",
   "execution_count": 2,
   "metadata": {},
   "outputs": [],
   "source": [
    "import pandas as pd\n",
    "import numpy as np\n",
    "\n",
    "MAX_STEP = 400000"
   ]
  },
  {
   "cell_type": "code",
   "execution_count": 14,
   "metadata": {},
   "outputs": [],
   "source": [
    "def calc_metrics(paths, file_name):\n",
    "    files = []\n",
    "    for p in paths:\n",
    "        files.append(p + file_name)\n",
    "\n",
    "    datas = []\n",
    "    avg_eps_lengths = []\n",
    "    for file in files:\n",
    "        df = pd.read_csv(file)\n",
    "        data = []\n",
    "        num_epidodes = 0\n",
    "        num_steps = 0\n",
    "        first_episode = 0\n",
    "        first_step = 0\n",
    "        for index, row in df.iterrows():\n",
    "            if index == 0:\n",
    "                first_episode = row['episode']\n",
    "                first_step = row['step']\n",
    "            data.append(row['episode_reward'])\n",
    "            if row['step'] >= MAX_STEP:\n",
    "                num_epidodes = row['episode']\n",
    "                num_steps = row['step']\n",
    "                break\n",
    "        avg_eps_length = (num_steps - first_step) / (num_epidodes - first_episode)\n",
    "        avg_eps_lengths.append(avg_eps_length)\n",
    "        datas.append(data)\n",
    "\n",
    "\n",
    "    # calculate metrics\n",
    "\n",
    "    maxs = []\n",
    "    avgs = []\n",
    "    stds = []\n",
    "    for data in datas:\n",
    "        maxs.append(max(data))\n",
    "        avgs.append(np.mean(data))\n",
    "        stds.append(np.std(data))\n",
    "\n",
    "    print(\"avg_max\")\n",
    "    print(np.mean(maxs))\n",
    "    print(\"avg_mean\")\n",
    "    print(np.mean(avgs))\n",
    "    print(\"avg_std\")\n",
    "    print(np.mean(stds))\n",
    "    print(\"avg_eps_length\")\n",
    "    print(np.mean(avg_eps_lengths))"
   ]
  },
  {
   "cell_type": "markdown",
   "metadata": {},
   "source": [
    "single evluations"
   ]
  },
  {
   "cell_type": "code",
   "execution_count": 95,
   "metadata": {},
   "outputs": [
    {
     "name": "stdout",
     "output_type": "stream",
     "text": [
      "avg_max\n",
      "-21.58363152595835\n",
      "avg_mean\n",
      "-55.43013942082628\n",
      "avg_std\n",
      "28.60898146337701\n",
      "avg_eps_length\n",
      "491.76014760147604\n"
     ]
    }
   ],
   "source": [
    "path = '../exp/downloads/2024-02-26_23-59/23-59/'\n",
    "file_name = 'combined_train_data.csv'\n",
    "\n",
    "calc_metrics([path], file_name)"
   ]
  },
  {
   "cell_type": "code",
   "execution_count": 96,
   "metadata": {},
   "outputs": [
    {
     "name": "stdout",
     "output_type": "stream",
     "text": [
      "avg_max\n",
      "-15.108919146869288\n",
      "avg_mean\n",
      "-16.307294023409433\n",
      "avg_std\n",
      "1.6741421096569626\n",
      "avg_eps_length\n",
      "532.1023192360163\n"
     ]
    }
   ],
   "source": [
    "path = '../exp/downloads/2024-02-25_10-55/10-55/'\n",
    "file_name = 'combined_eval_data.csv'\n",
    "\n",
    "\n",
    "calc_metrics([path], file_name)"
   ]
  },
  {
   "cell_type": "markdown",
   "metadata": {},
   "source": [
    "#average evaluations"
   ]
  },
  {
   "cell_type": "code",
   "execution_count": 15,
   "metadata": {},
   "outputs": [
    {
     "name": "stdout",
     "output_type": "stream",
     "text": [
      "avg_max\n",
      "-23.053410494332443\n",
      "avg_mean\n",
      "-56.179175512594966\n",
      "avg_std\n",
      "46.32636657631107\n",
      "avg_eps_length\n",
      "489.5974840177886\n"
     ]
    }
   ],
   "source": [
    "paths = [\n",
    "'../exp/downloads/2024-02-27_22-00/22-00/',\n",
    "'../exp/downloads/2024-02-27_23-57/23-57/',\n",
    "'../exp/downloads/2024-02-28_23-46/23-46/',\n",
    "'../exp/downloads/2024-02-26_23-59/23-59/',\n",
    "]\n",
    "\n",
    "\n",
    "file_name = 'combined_train_data.csv'\n",
    "\n",
    "calc_metrics(paths, file_name)"
   ]
  },
  {
   "cell_type": "code",
   "execution_count": 16,
   "metadata": {},
   "outputs": [
    {
     "name": "stdout",
     "output_type": "stream",
     "text": [
      "avg_max\n",
      "-23.510037111121928\n",
      "avg_mean\n",
      "-57.785350129087945\n",
      "avg_std\n",
      "61.47710750625992\n",
      "avg_eps_length\n",
      "461.39398670783106\n"
     ]
    }
   ],
   "source": [
    "paths = [\n",
    "'../exp/downloads/2024-02-26_14-33/14-33/',\n",
    "'../exp/downloads/2024-02-26_14-35/14-35/',\n",
    "'../exp/downloads/2024-02-26_14-37/14-37/',\n",
    "'../exp/downloads/2024-02-27_15-02/15-02/',\n",
    "]\n",
    "\n",
    "\n",
    "file_name = 'combined_train_data.csv'\n",
    "\n",
    "calc_metrics(paths, file_name)"
   ]
  },
  {
   "cell_type": "markdown",
   "metadata": {},
   "source": [
    "# comparison evaluation"
   ]
  },
  {
   "cell_type": "code",
   "execution_count": 6,
   "metadata": {},
   "outputs": [
    {
     "name": "stdout",
     "output_type": "stream",
     "text": [
      "avg_input\n",
      "0.6303911308918442\n",
      "avg_gap_error\n",
      "0.564334640438123\n",
      "avg_speed_error\n",
      "0.5773947057031519\n",
      "avg_jerk\n",
      "0.027096783544557763\n",
      "max_input\n",
      "2.898862\n",
      "max_gap_error\n",
      "10.75251941680908\n",
      "max_speed_error\n",
      "4.076744079589844\n",
      "max_jerk\n",
      "2.502484083175659\n"
     ]
    }
   ],
   "source": [
    "path = '../exp/2024-03-02/13-45/'\n",
    "scenario = '0'\n",
    "\n",
    "data_keys = ['input', 'gap_error', 'speed_error', 'jerk']\n",
    "agent_ids = ['follower0_0', 'follower1_0', 'follower2_0', 'follower3_0', 'follower4_0']\n",
    "file_paths = []\n",
    "for agent_id in agent_ids:\n",
    "    file_paths.append(path + agent_id + '-' + scenario + '_eval_reward_data.csv')\n",
    "\n",
    "datas = {}\n",
    "for key in data_keys:\n",
    "    datas[key] = []\n",
    "\n",
    "for file_path in file_paths:\n",
    "    df = pd.read_csv(file_path)\n",
    "    data = {}\n",
    "    for key in data_keys:\n",
    "        data[key] = []\n",
    "    for index, row in df.iterrows():\n",
    "        for key in data_keys:\n",
    "            data[key].append(abs(row[key]))\n",
    "    for key in data_keys:\n",
    "        datas[key].append(data[key])\n",
    "\n",
    "\n",
    "avgs = {}\n",
    "maxs = {}\n",
    "for key in data_keys:\n",
    "    avgs[key] = []\n",
    "    maxs[key] = []\n",
    "    for data in datas[key]:\n",
    "        avgs[key].append(np.mean(data))\n",
    "        maxs[key].append(max(data))\n",
    "\n",
    "print(\"avg_input\")\n",
    "print(np.mean(avgs['input']))\n",
    "\n",
    "print(\"avg_gap_error\")\n",
    "print(np.mean(avgs['gap_error']))\n",
    "\n",
    "print(\"avg_speed_error\")\n",
    "print(np.mean(avgs['speed_error']))\n",
    "\n",
    "print(\"avg_jerk\")\n",
    "print(np.mean(avgs['jerk']))\n",
    "\n",
    "\n",
    "print(\"max_input\")\n",
    "print(max(maxs['input']))\n",
    "\n",
    "print(\"max_gap_error\")\n",
    "print(max(maxs['gap_error']))\n",
    "\n",
    "print(\"max_speed_error\")\n",
    "print(max(maxs['speed_error']))\n",
    "\n",
    "print(\"max_jerk\")\n",
    "print(max(maxs['jerk']))\n",
    "\n"
   ]
  }
 ],
 "metadata": {
  "kernelspec": {
   "display_name": "new_flow",
   "language": "python",
   "name": "python3"
  },
  "language_info": {
   "codemirror_mode": {
    "name": "ipython",
    "version": 3
   },
   "file_extension": ".py",
   "mimetype": "text/x-python",
   "name": "python",
   "nbconvert_exporter": "python",
   "pygments_lexer": "ipython3",
   "version": "3.11.0"
  }
 },
 "nbformat": 4,
 "nbformat_minor": 2
}

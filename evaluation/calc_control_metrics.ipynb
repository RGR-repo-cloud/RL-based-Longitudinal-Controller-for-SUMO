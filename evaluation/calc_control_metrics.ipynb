{
 "cells": [
  {
   "cell_type": "code",
   "execution_count": 1,
   "metadata": {},
   "outputs": [],
   "source": [
    "import pandas as pd\n",
    "import numpy as np"
   ]
  },
  {
   "cell_type": "code",
   "execution_count": 5,
   "metadata": {},
   "outputs": [
    {
     "name": "stdout",
     "output_type": "stream",
     "text": [
      "mean\n",
      "0.04144558175485151\n",
      "max\n",
      "-2.0980906496419967e-10\n",
      "min\n",
      "-0.7517763702074683\n",
      "sum\n",
      "-124.33674526455454\n"
     ]
    }
   ],
   "source": [
    "path = '../ext_eval/2024-03-15/14-41/'\n",
    "#path = '../exp/downloads/2024-03-08_23-52/23-52/'\n",
    "scenario = '2'\n",
    "\n",
    "key = 'reward'\n",
    "file_name = 'eval_reward_data.csv'\n",
    "leader_file_name = 'eval_leader_data.csv'\n",
    "include_leader = False\n",
    "\n",
    "agent_ids = ['follower0_0', 'follower1_0', 'follower2_0', 'follower3_0', 'follower4_0']\n",
    "file_paths = []\n",
    "for agent_id in agent_ids:\n",
    "    file_paths.append(path + agent_id + '-' + scenario + '_' + file_name)\n",
    "\n",
    "data = []\n",
    "for file_path in file_paths:\n",
    "    df = pd.read_csv(file_path)\n",
    "    for index, row in df.iterrows():\n",
    "        #if index < 200:\n",
    "        #    continue\n",
    "        data.append(row[key])\n",
    "\n",
    "\n",
    "print(\"mean\")\n",
    "print(np.mean(np.abs(data)))\n",
    "print(\"max\")\n",
    "print(max(data))\n",
    "print(\"min\")\n",
    "print(min(data))\n",
    "print(\"sum\")\n",
    "print(sum(data))"
   ]
  },
  {
   "cell_type": "code",
   "execution_count": 6,
   "metadata": {},
   "outputs": [
    {
     "name": "stdout",
     "output_type": "stream",
     "text": [
      "mean\n",
      "0.04144558175485151\n",
      "max\n",
      "-2.0980906496419967e-10\n",
      "min\n",
      "-0.7517763702074683\n",
      "sum\n",
      "-124.33674526455454\n"
     ]
    }
   ],
   "source": [
    "path = '../ext_eval/2024-03-09/15-20/'\n",
    "#path = '../exp/downloads/2024-03-08_23-52/23-52/'\n",
    "scenario = '2'\n",
    "\n",
    "key = 'reward'\n",
    "file_name = 'eval_reward_data.csv'\n",
    "leader_file_name = 'eval_leader_data.csv'\n",
    "include_leader = False\n",
    "\n",
    "agent_ids = ['follower0_0', 'follower1_0', 'follower2_0', 'follower3_0', 'follower4_0']\n",
    "file_paths = []\n",
    "for agent_id in agent_ids:\n",
    "    file_paths.append(path + agent_id + '-' + scenario + '_' + file_name)\n",
    "\n",
    "data = []\n",
    "for file_path in file_paths:\n",
    "    df = pd.read_csv(file_path)\n",
    "    for index, row in df.iterrows():\n",
    "        #if index < 200:\n",
    "        #    continue\n",
    "        data.append(row[key])\n",
    "\n",
    "\n",
    "print(\"mean\")\n",
    "print(np.mean(np.abs(data)))\n",
    "print(\"max\")\n",
    "print(max(data))\n",
    "print(\"min\")\n",
    "print(min(data))\n",
    "print(\"sum\")\n",
    "print(sum(data))"
   ]
  }
 ],
 "metadata": {
  "kernelspec": {
   "display_name": "new_flow",
   "language": "python",
   "name": "python3"
  },
  "language_info": {
   "codemirror_mode": {
    "name": "ipython",
    "version": 3
   },
   "file_extension": ".py",
   "mimetype": "text/x-python",
   "name": "python",
   "nbconvert_exporter": "python",
   "pygments_lexer": "ipython3",
   "version": "3.11.0"
  }
 },
 "nbformat": 4,
 "nbformat_minor": 2
}

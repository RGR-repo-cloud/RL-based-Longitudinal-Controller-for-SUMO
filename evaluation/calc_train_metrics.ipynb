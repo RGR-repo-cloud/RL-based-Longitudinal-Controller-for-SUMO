{
 "cells": [
  {
   "cell_type": "code",
   "execution_count": 1,
   "metadata": {},
   "outputs": [],
   "source": [
    "import pandas as pd\n",
    "import numpy as np\n",
    "\n",
    "MAX_STEP = 400000"
   ]
  },
  {
   "cell_type": "code",
   "execution_count": 2,
   "metadata": {},
   "outputs": [],
   "source": [
    "def calc_metrics(paths, file_name):\n",
    "    files = []\n",
    "    for p in paths:\n",
    "        files.append(p + file_name)\n",
    "\n",
    "    datas = []\n",
    "    avg_eps_lengths = []\n",
    "    for file in files:\n",
    "        df = pd.read_csv(file)\n",
    "        data = []\n",
    "        num_epidodes = 0\n",
    "        num_steps = 0\n",
    "        first_episode = 0\n",
    "        first_step = 0\n",
    "        for index, row in df.iterrows():\n",
    "            if index == 0:\n",
    "                first_episode = row['episode']\n",
    "                first_step = row['step']\n",
    "            data.append(row['episode_reward'])\n",
    "            if row['step'] >= MAX_STEP:\n",
    "                num_epidodes = row['episode']\n",
    "                num_steps = row['step']\n",
    "                break\n",
    "        avg_eps_length = (num_steps - first_step) / (num_epidodes - first_episode)\n",
    "        avg_eps_lengths.append(avg_eps_length)\n",
    "        datas.append(data)\n",
    "\n",
    "\n",
    "    # calculate metrics\n",
    "\n",
    "    maxs = []\n",
    "    avgs = []\n",
    "    stds = []\n",
    "    for data in datas:\n",
    "        maxs.append(max(data))\n",
    "        avgs.append(np.mean(data))\n",
    "        stds.append(np.std(data))\n",
    "\n",
    "    print(\"avg_max\")\n",
    "    print(np.mean(maxs))\n",
    "    print(\"avg_mean\")\n",
    "    print(np.mean(avgs))\n",
    "    print(\"avg_std\")\n",
    "    print(np.mean(stds))\n",
    "    print(\"avg_eps_length\")\n",
    "    print(np.mean(avg_eps_lengths))"
   ]
  },
  {
   "cell_type": "markdown",
   "metadata": {},
   "source": [
    "single evluations"
   ]
  },
  {
   "cell_type": "code",
   "execution_count": 95,
   "metadata": {},
   "outputs": [
    {
     "name": "stdout",
     "output_type": "stream",
     "text": [
      "avg_max\n",
      "-21.58363152595835\n",
      "avg_mean\n",
      "-55.43013942082628\n",
      "avg_std\n",
      "28.60898146337701\n",
      "avg_eps_length\n",
      "491.76014760147604\n"
     ]
    }
   ],
   "source": [
    "path = '../exp/downloads/2024-02-26_23-59/23-59/'\n",
    "file_name = 'combined_train_data.csv'\n",
    "\n",
    "calc_metrics([path], file_name)"
   ]
  },
  {
   "cell_type": "code",
   "execution_count": 96,
   "metadata": {},
   "outputs": [
    {
     "name": "stdout",
     "output_type": "stream",
     "text": [
      "avg_max\n",
      "-15.108919146869288\n",
      "avg_mean\n",
      "-16.307294023409433\n",
      "avg_std\n",
      "1.6741421096569626\n",
      "avg_eps_length\n",
      "532.1023192360163\n"
     ]
    }
   ],
   "source": [
    "path = '../exp/downloads/2024-02-25_10-55/10-55/'\n",
    "file_name = 'combined_eval_data.csv'\n",
    "\n",
    "\n",
    "calc_metrics([path], file_name)"
   ]
  },
  {
   "cell_type": "markdown",
   "metadata": {},
   "source": [
    "#average evaluations"
   ]
  },
  {
   "cell_type": "code",
   "execution_count": 7,
   "metadata": {},
   "outputs": [
    {
     "name": "stdout",
     "output_type": "stream",
     "text": [
      "avg_max\n",
      "1175.5319668109437\n",
      "avg_mean\n",
      "1038.3929442918597\n",
      "avg_std\n",
      "321.31185704383984\n",
      "avg_eps_length\n",
      "544.975650898769\n"
     ]
    }
   ],
   "source": [
    "paths = [\n",
    "'../exp/downloads/2024-03-07_15-19/15-19/',\n",
    "'../exp/downloads/2024-03-07_00-16/00-16/',\n",
    "'../exp/downloads/2024-03-08_01-28/01-28/',\n",
    "'../exp/downloads/2024-03-08_10-47/10-47/',\n",
    "]\n",
    "\n",
    "\n",
    "file_name = 'combined_train_data.csv'\n",
    "\n",
    "calc_metrics(paths, file_name)"
   ]
  },
  {
   "cell_type": "code",
   "execution_count": 8,
   "metadata": {},
   "outputs": [
    {
     "name": "stdout",
     "output_type": "stream",
     "text": [
      "avg_max\n",
      "-23.053410494332443\n",
      "avg_mean\n",
      "-56.179175512594966\n",
      "avg_std\n",
      "46.32636657631107\n",
      "avg_eps_length\n",
      "489.5974840177886\n"
     ]
    }
   ],
   "source": [
    "paths = [\n",
    "'../exp/downloads/2024-02-27_22-00/22-00/',\n",
    "'../exp/downloads/2024-02-27_23-57/23-57/',\n",
    "'../exp/downloads/2024-02-28_23-46/23-46/',\n",
    "'../exp/downloads/2024-02-26_23-59/23-59/',\n",
    "]\n",
    "\n",
    "\n",
    "file_name = 'combined_train_data.csv'\n",
    "\n",
    "calc_metrics(paths, file_name)"
   ]
  }
 ],
 "metadata": {
  "kernelspec": {
   "display_name": "new_flow",
   "language": "python",
   "name": "python3"
  },
  "language_info": {
   "codemirror_mode": {
    "name": "ipython",
    "version": 3
   },
   "file_extension": ".py",
   "mimetype": "text/x-python",
   "name": "python",
   "nbconvert_exporter": "python",
   "pygments_lexer": "ipython3",
   "version": "3.11.0"
  }
 },
 "nbformat": 4,
 "nbformat_minor": 2
}
